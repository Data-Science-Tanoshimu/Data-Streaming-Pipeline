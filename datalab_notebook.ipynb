{
 "cells": [
  {
   "cell_type": "code",
   "execution_count": 66,
   "metadata": {},
   "outputs": [],
   "source": [
    "import google.datalab.bigquery as bq\n",
    "from google.datalab.storage import Bucket\n",
    "\n",
    "import pandas as pd\n",
    "import scipy\n",
    "import matplotlib.pyplot as plt\n",
    "import seaborn as sns"
   ]
  },
  {
   "cell_type": "code",
   "execution_count": 7,
   "metadata": {},
   "outputs": [],
   "source": [
    "# Extract design A data from BigQuery\n",
    "%%bq query -n design_a\n",
    "SELECT page, timestamp\n",
    "FROM `user_log_dataset.weblog`\n",
    "WHERE timestamp BETWEEN '2021-11-11 00:00:01' AND '2021-11-30 23:59:59'"
   ]
  },
  {
   "cell_type": "code",
   "execution_count": 8,
   "metadata": {},
   "outputs": [
    {
     "data": {
      "text/html": [
       "\n",
       "    <div class=\"bqtv\" id=\"1_164012658094\"><table><tr><th>page</th><th>timestamp</th></tr><tr><td>/</td><td>2021-11-17 09:24:37</td></tr><tr><td>/gadget/004</td><td>2021-11-30 01:46:23</td></tr><tr><td>/</td><td>2021-11-11 04:09:40</td></tr><tr><td>/special</td><td>2021-11-27 17:12:38</td></tr><tr><td>/special</td><td>2021-11-23 10:48:14</td></tr></table></div>\n",
       "    <br />(rows: 5, time: 0.8s,    15KB processed, job: job_GAhhEjHMdw4LJJS2V2ZLK6dQH-pg)<br />\n",
       "    <script src=\"/static/components/requirejs/require.js\"></script>\n",
       "    <script>\n",
       "      require.config({\n",
       "        paths: {\n",
       "          base: '/static/base',\n",
       "          d3: '//cdnjs.cloudflare.com/ajax/libs/d3/3.4.13/d3',\n",
       "          plotly: 'https://cdn.plot.ly/plotly-1.5.1.min.js?noext',\n",
       "          jquery: '//ajax.googleapis.com/ajax/libs/jquery/2.0.0/jquery.min'\n",
       "        },\n",
       "        map: {\n",
       "          '*': {\n",
       "            datalab: 'nbextensions/gcpdatalab'\n",
       "          }\n",
       "        },\n",
       "        shim: {\n",
       "          plotly: {\n",
       "            deps: ['d3', 'jquery'],\n",
       "            exports: 'plotly'\n",
       "          }\n",
       "        }\n",
       "      });\n",
       "\n",
       "      require(['datalab/charting', 'datalab/element!1_164012658094', 'base/js/events',\n",
       "          'datalab/style!/nbextensions/gcpdatalab/charting.css'],\n",
       "        function(charts, dom, events) {\n",
       "          charts.render('gcharts', dom, events, 'table', [], {\"rows\": [{\"c\": [{\"v\": \"/\"}, {\"v\": \"2021-11-17T09:24:37\"}]}, {\"c\": [{\"v\": \"/gadget/004\"}, {\"v\": \"2021-11-30T01:46:23\"}]}, {\"c\": [{\"v\": \"/\"}, {\"v\": \"2021-11-11T04:09:40\"}]}, {\"c\": [{\"v\": \"/special\"}, {\"v\": \"2021-11-27T17:12:38\"}]}, {\"c\": [{\"v\": \"/special\"}, {\"v\": \"2021-11-23T10:48:14\"}]}], \"cols\": [{\"type\": \"string\", \"id\": \"page\", \"label\": \"page\"}, {\"type\": \"timestamp\", \"id\": \"timestamp\", \"label\": \"timestamp\"}]},\n",
       "            {\n",
       "              pageSize: 25,\n",
       "              cssClassNames:  {\n",
       "                tableRow: 'gchart-table-row',\n",
       "                headerRow: 'gchart-table-headerrow',\n",
       "                oddTableRow: 'gchart-table-oddrow',\n",
       "                selectedTableRow: 'gchart-table-selectedrow',\n",
       "                hoverTableRow: 'gchart-table-hoverrow',\n",
       "                tableCell: 'gchart-table-cell',\n",
       "                headerCell: 'gchart-table-headercell',\n",
       "                rowNumberCell: 'gchart-table-rownumcell'\n",
       "              }\n",
       "            },\n",
       "            {source_index: 0, fields: 'page,timestamp'},\n",
       "            0,\n",
       "            5);\n",
       "        }\n",
       "      );\n",
       "    </script>\n",
       "  "
      ],
      "text/plain": [
       "QueryResultsTable job_GAhhEjHMdw4LJJS2V2ZLK6dQH-pg"
      ]
     },
     "execution_count": 8,
     "metadata": {},
     "output_type": "execute_result"
    }
   ],
   "source": [
    "%%bq sample --count 5 --query design_a"
   ]
  },
  {
   "cell_type": "code",
   "execution_count": 9,
   "metadata": {},
   "outputs": [],
   "source": [
    "design_a_df = design_a.execute(output_options=bq.QueryOutput.dataframe()).result()"
   ]
  },
  {
   "cell_type": "code",
   "execution_count": 10,
   "metadata": {},
   "outputs": [
    {
     "data": {
      "text/html": [
       "<div>\n",
       "<style scoped>\n",
       "    .dataframe tbody tr th:only-of-type {\n",
       "        vertical-align: middle;\n",
       "    }\n",
       "\n",
       "    .dataframe tbody tr th {\n",
       "        vertical-align: top;\n",
       "    }\n",
       "\n",
       "    .dataframe thead th {\n",
       "        text-align: right;\n",
       "    }\n",
       "</style>\n",
       "<table border=\"1\" class=\"dataframe\">\n",
       "  <thead>\n",
       "    <tr style=\"text-align: right;\">\n",
       "      <th></th>\n",
       "      <th>page</th>\n",
       "      <th>timestamp</th>\n",
       "    </tr>\n",
       "  </thead>\n",
       "  <tbody>\n",
       "    <tr>\n",
       "      <th>0</th>\n",
       "      <td>/</td>\n",
       "      <td>2021-11-17 09:24:37</td>\n",
       "    </tr>\n",
       "    <tr>\n",
       "      <th>1</th>\n",
       "      <td>/gadget/004</td>\n",
       "      <td>2021-11-30 01:46:23</td>\n",
       "    </tr>\n",
       "    <tr>\n",
       "      <th>2</th>\n",
       "      <td>/</td>\n",
       "      <td>2021-11-11 04:09:40</td>\n",
       "    </tr>\n",
       "    <tr>\n",
       "      <th>3</th>\n",
       "      <td>/special</td>\n",
       "      <td>2021-11-27 17:12:38</td>\n",
       "    </tr>\n",
       "    <tr>\n",
       "      <th>4</th>\n",
       "      <td>/special</td>\n",
       "      <td>2021-11-23 10:48:14</td>\n",
       "    </tr>\n",
       "  </tbody>\n",
       "</table>\n",
       "</div>"
      ],
      "text/plain": [
       "          page           timestamp\n",
       "0            / 2021-11-17 09:24:37\n",
       "1  /gadget/004 2021-11-30 01:46:23\n",
       "2            / 2021-11-11 04:09:40\n",
       "3     /special 2021-11-27 17:12:38\n",
       "4     /special 2021-11-23 10:48:14"
      ]
     },
     "execution_count": 10,
     "metadata": {},
     "output_type": "execute_result"
    }
   ],
   "source": [
    "design_a_df.head()"
   ]
  },
  {
   "cell_type": "code",
   "execution_count": 20,
   "metadata": {},
   "outputs": [],
   "source": [
    "# Extract design B data from BigQuery\n",
    "%%bq query -n design_b\n",
    "SELECT page, timestamp\n",
    "FROM `user_log_dataset.weblog`\n",
    "WHERE timestamp BETWEEN '2021-12-01 00:00:01' AND '2021-12-21 23:59:59'"
   ]
  },
  {
   "cell_type": "code",
   "execution_count": 21,
   "metadata": {},
   "outputs": [
    {
     "data": {
      "text/html": [
       "\n",
       "    <div class=\"bqtv\" id=\"3_164012690484\"><table><tr><th>page</th><th>timestamp</th></tr><tr><td>/</td><td>2021-12-04 04:37:44</td></tr><tr><td>/special</td><td>2021-12-19 15:19:25</td></tr><tr><td>/</td><td>2021-12-06 05:36:15</td></tr><tr><td>/special</td><td>2021-12-12 19:53:20</td></tr><tr><td>/books/002</td><td>2021-12-09 04:27:33</td></tr></table></div>\n",
       "    <br />(rows: 5, time: 0.4s,    15KB processed, job: job_NgWXGC3c66tGveVJ1SxqbpC828Zk)<br />\n",
       "    <script src=\"/static/components/requirejs/require.js\"></script>\n",
       "    <script>\n",
       "      require.config({\n",
       "        paths: {\n",
       "          base: '/static/base',\n",
       "          d3: '//cdnjs.cloudflare.com/ajax/libs/d3/3.4.13/d3',\n",
       "          plotly: 'https://cdn.plot.ly/plotly-1.5.1.min.js?noext',\n",
       "          jquery: '//ajax.googleapis.com/ajax/libs/jquery/2.0.0/jquery.min'\n",
       "        },\n",
       "        map: {\n",
       "          '*': {\n",
       "            datalab: 'nbextensions/gcpdatalab'\n",
       "          }\n",
       "        },\n",
       "        shim: {\n",
       "          plotly: {\n",
       "            deps: ['d3', 'jquery'],\n",
       "            exports: 'plotly'\n",
       "          }\n",
       "        }\n",
       "      });\n",
       "\n",
       "      require(['datalab/charting', 'datalab/element!3_164012690484', 'base/js/events',\n",
       "          'datalab/style!/nbextensions/gcpdatalab/charting.css'],\n",
       "        function(charts, dom, events) {\n",
       "          charts.render('gcharts', dom, events, 'table', [], {\"rows\": [{\"c\": [{\"v\": \"/\"}, {\"v\": \"2021-12-04T04:37:44\"}]}, {\"c\": [{\"v\": \"/special\"}, {\"v\": \"2021-12-19T15:19:25\"}]}, {\"c\": [{\"v\": \"/\"}, {\"v\": \"2021-12-06T05:36:15\"}]}, {\"c\": [{\"v\": \"/special\"}, {\"v\": \"2021-12-12T19:53:20\"}]}, {\"c\": [{\"v\": \"/books/002\"}, {\"v\": \"2021-12-09T04:27:33\"}]}], \"cols\": [{\"type\": \"string\", \"id\": \"page\", \"label\": \"page\"}, {\"type\": \"timestamp\", \"id\": \"timestamp\", \"label\": \"timestamp\"}]},\n",
       "            {\n",
       "              pageSize: 25,\n",
       "              cssClassNames:  {\n",
       "                tableRow: 'gchart-table-row',\n",
       "                headerRow: 'gchart-table-headerrow',\n",
       "                oddTableRow: 'gchart-table-oddrow',\n",
       "                selectedTableRow: 'gchart-table-selectedrow',\n",
       "                hoverTableRow: 'gchart-table-hoverrow',\n",
       "                tableCell: 'gchart-table-cell',\n",
       "                headerCell: 'gchart-table-headercell',\n",
       "                rowNumberCell: 'gchart-table-rownumcell'\n",
       "              }\n",
       "            },\n",
       "            {source_index: 2, fields: 'page,timestamp'},\n",
       "            0,\n",
       "            5);\n",
       "        }\n",
       "      );\n",
       "    </script>\n",
       "  "
      ],
      "text/plain": [
       "QueryResultsTable job_NgWXGC3c66tGveVJ1SxqbpC828Zk"
      ]
     },
     "execution_count": 21,
     "metadata": {},
     "output_type": "execute_result"
    }
   ],
   "source": [
    "%%bq sample --count 5 --query design_b"
   ]
  },
  {
   "cell_type": "code",
   "execution_count": 22,
   "metadata": {},
   "outputs": [],
   "source": [
    "design_b_df = design_b.execute(output_options=bq.QueryOutput.dataframe()).result()"
   ]
  },
  {
   "cell_type": "code",
   "execution_count": 24,
   "metadata": {},
   "outputs": [
    {
     "data": {
      "text/html": [
       "<div>\n",
       "<style scoped>\n",
       "    .dataframe tbody tr th:only-of-type {\n",
       "        vertical-align: middle;\n",
       "    }\n",
       "\n",
       "    .dataframe tbody tr th {\n",
       "        vertical-align: top;\n",
       "    }\n",
       "\n",
       "    .dataframe thead th {\n",
       "        text-align: right;\n",
       "    }\n",
       "</style>\n",
       "<table border=\"1\" class=\"dataframe\">\n",
       "  <thead>\n",
       "    <tr style=\"text-align: right;\">\n",
       "      <th></th>\n",
       "      <th>page</th>\n",
       "      <th>timestamp</th>\n",
       "    </tr>\n",
       "  </thead>\n",
       "  <tbody>\n",
       "    <tr>\n",
       "      <th>0</th>\n",
       "      <td>/</td>\n",
       "      <td>2021-12-04 04:37:44</td>\n",
       "    </tr>\n",
       "    <tr>\n",
       "      <th>1</th>\n",
       "      <td>/special</td>\n",
       "      <td>2021-12-19 15:19:25</td>\n",
       "    </tr>\n",
       "    <tr>\n",
       "      <th>2</th>\n",
       "      <td>/</td>\n",
       "      <td>2021-12-06 05:36:15</td>\n",
       "    </tr>\n",
       "    <tr>\n",
       "      <th>3</th>\n",
       "      <td>/special</td>\n",
       "      <td>2021-12-12 19:53:20</td>\n",
       "    </tr>\n",
       "    <tr>\n",
       "      <th>4</th>\n",
       "      <td>/books/002</td>\n",
       "      <td>2021-12-09 04:27:33</td>\n",
       "    </tr>\n",
       "  </tbody>\n",
       "</table>\n",
       "</div>"
      ],
      "text/plain": [
       "         page           timestamp\n",
       "0           / 2021-12-04 04:37:44\n",
       "1    /special 2021-12-19 15:19:25\n",
       "2           / 2021-12-06 05:36:15\n",
       "3    /special 2021-12-12 19:53:20\n",
       "4  /books/002 2021-12-09 04:27:33"
      ]
     },
     "execution_count": 24,
     "metadata": {},
     "output_type": "execute_result"
    }
   ],
   "source": [
    "design_b_df.head()"
   ]
  },
  {
   "cell_type": "code",
   "execution_count": 60,
   "metadata": {},
   "outputs": [
    {
     "data": {
      "text/html": [
       "<div>\n",
       "<style scoped>\n",
       "    .dataframe tbody tr th:only-of-type {\n",
       "        vertical-align: middle;\n",
       "    }\n",
       "\n",
       "    .dataframe tbody tr th {\n",
       "        vertical-align: top;\n",
       "    }\n",
       "\n",
       "    .dataframe thead th {\n",
       "        text-align: right;\n",
       "    }\n",
       "</style>\n",
       "<table border=\"1\" class=\"dataframe\">\n",
       "  <thead>\n",
       "    <tr style=\"text-align: right;\">\n",
       "      <th></th>\n",
       "      <th>timestamp</th>\n",
       "    </tr>\n",
       "    <tr>\n",
       "      <th>page</th>\n",
       "      <th></th>\n",
       "    </tr>\n",
       "  </thead>\n",
       "  <tbody>\n",
       "    <tr>\n",
       "      <th>/</th>\n",
       "      <td>234</td>\n",
       "    </tr>\n",
       "    <tr>\n",
       "      <th>/books</th>\n",
       "      <td>26</td>\n",
       "    </tr>\n",
       "    <tr>\n",
       "      <th>/books/001</th>\n",
       "      <td>14</td>\n",
       "    </tr>\n",
       "    <tr>\n",
       "      <th>/books/002</th>\n",
       "      <td>10</td>\n",
       "    </tr>\n",
       "    <tr>\n",
       "      <th>/gadget</th>\n",
       "      <td>24</td>\n",
       "    </tr>\n",
       "    <tr>\n",
       "      <th>/gadget/004</th>\n",
       "      <td>23</td>\n",
       "    </tr>\n",
       "    <tr>\n",
       "      <th>/special</th>\n",
       "      <td>89</td>\n",
       "    </tr>\n",
       "    <tr>\n",
       "      <th>/special/thankyou</th>\n",
       "      <td>52</td>\n",
       "    </tr>\n",
       "  </tbody>\n",
       "</table>\n",
       "</div>"
      ],
      "text/plain": [
       "                   timestamp\n",
       "page                        \n",
       "/                        234\n",
       "/books                    26\n",
       "/books/001                14\n",
       "/books/002                10\n",
       "/gadget                   24\n",
       "/gadget/004               23\n",
       "/special                  89\n",
       "/special/thankyou         52"
      ]
     },
     "execution_count": 60,
     "metadata": {},
     "output_type": "execute_result"
    }
   ],
   "source": [
    "a_groupby = design_a_df.groupby('page').count()\n",
    "a_groupby"
   ]
  },
  {
   "cell_type": "code",
   "execution_count": 61,
   "metadata": {},
   "outputs": [
    {
     "data": {
      "text/html": [
       "<div>\n",
       "<style scoped>\n",
       "    .dataframe tbody tr th:only-of-type {\n",
       "        vertical-align: middle;\n",
       "    }\n",
       "\n",
       "    .dataframe tbody tr th {\n",
       "        vertical-align: top;\n",
       "    }\n",
       "\n",
       "    .dataframe thead th {\n",
       "        text-align: right;\n",
       "    }\n",
       "</style>\n",
       "<table border=\"1\" class=\"dataframe\">\n",
       "  <thead>\n",
       "    <tr style=\"text-align: right;\">\n",
       "      <th></th>\n",
       "      <th>timestamp</th>\n",
       "    </tr>\n",
       "    <tr>\n",
       "      <th>page</th>\n",
       "      <th></th>\n",
       "    </tr>\n",
       "  </thead>\n",
       "  <tbody>\n",
       "    <tr>\n",
       "      <th>/</th>\n",
       "      <td>222</td>\n",
       "    </tr>\n",
       "    <tr>\n",
       "      <th>/books</th>\n",
       "      <td>22</td>\n",
       "    </tr>\n",
       "    <tr>\n",
       "      <th>/books/001</th>\n",
       "      <td>13</td>\n",
       "    </tr>\n",
       "    <tr>\n",
       "      <th>/books/002</th>\n",
       "      <td>15</td>\n",
       "    </tr>\n",
       "    <tr>\n",
       "      <th>/gadget</th>\n",
       "      <td>15</td>\n",
       "    </tr>\n",
       "    <tr>\n",
       "      <th>/gadget/004</th>\n",
       "      <td>24</td>\n",
       "    </tr>\n",
       "    <tr>\n",
       "      <th>/special</th>\n",
       "      <td>81</td>\n",
       "    </tr>\n",
       "    <tr>\n",
       "      <th>/special/thankyou</th>\n",
       "      <td>59</td>\n",
       "    </tr>\n",
       "  </tbody>\n",
       "</table>\n",
       "</div>"
      ],
      "text/plain": [
       "                   timestamp\n",
       "page                        \n",
       "/                        222\n",
       "/books                    22\n",
       "/books/001                13\n",
       "/books/002                15\n",
       "/gadget                   15\n",
       "/gadget/004               24\n",
       "/special                  81\n",
       "/special/thankyou         59"
      ]
     },
     "execution_count": 61,
     "metadata": {},
     "output_type": "execute_result"
    }
   ],
   "source": [
    "b_groupby = design_b_df.groupby('page').count()\n",
    "b_groupby"
   ]
  },
  {
   "cell_type": "code",
   "execution_count": 59,
   "metadata": {},
   "outputs": [
    {
     "name": "stdout",
     "output_type": "stream",
     "text": [
      "0.91575\n"
     ]
    }
   ],
   "source": [
    "total_visitor_a = a_groupby.loc[['/special']].values[0][0]\n",
    "a_conversion = a_groupby.loc[['/special/thankyou']].values[0][0]\n",
    "total_visitor_b = b_groupby.loc[['/special']].values[0][0]\n",
    "b_conversion = b_groupby.loc[['/special/thankyou']].values[0][0]\n",
    "\n",
    "# If samples = N and conversion = X, then X follows a binomial distribution. \n",
    "# If we choose beta distribution for the prior, the posterior will also be beta distribution too\n",
    "# The Posterior beta distribution will be Beta(alpha + X, beta + N - X)\n",
    "alpha_prior = 1\n",
    "beta_prior = 1\n",
    "\n",
    "posterior_a = scipy.stats.beta(alpha_prior + total_visitor_a, beta_prior + total_visitor_a - a_conversion)\n",
    "posterior_b = scipy.stats.beta(alpha_prior + total_visitor_b, beta_prior + total_visitor_b - b_conversion)\n",
    "\n",
    "samples = 20000\n",
    "samples_posterior_a = posterior_a.rvs(samples)\n",
    "samples_posterior_b = posterior_b.rvs(samples)\n",
    "\n",
    "prob = (samples_posterior_a < samples_posterior_b).mean()\n",
    "print(prob)"
   ]
  },
  {
   "cell_type": "code",
   "execution_count": 58,
   "metadata": {},
   "outputs": [
    {
     "data": {
      "image/png": "[encoded data removed]",
      "text/plain": [
       "<matplotlib.figure.Figure at 0x7fe0e0ac4410>"
      ]
     },
     "metadata": {},
     "output_type": "display_data"
    }
   ],
   "source": [
    "# Graph setting\n",
    "fig = plt.figure(figsize=(20,10))\n",
    "ax = fig.add_subplot(111)\n",
    "sns.distplot(samples_posterior_a, ax=ax, label='CVR of A')\n",
    "sns.distplot(samples_posterior_b, ax=ax, label='CVR of B')\n",
    "ax.set_ylabel('KDE', fontsize='xx-large')\n",
    "ax.set_xlabel('CVR', fontsize='xx-large')\n",
    "ax.set_title('CVR Distributions', fontsize='xx-large')\n",
    "ax.legend(loc='upper right', fontsize='xx-large')\n",
    "fig.tight_layout()"
   ]
  },
  {
   "cell_type": "code",
   "execution_count": 63,
   "metadata": {},
   "outputs": [],
   "source": [
    "# Export the processed data to Google Storage\n",
    "data = [[total_visitor_a, total_visitor_b], [a_conversion, b_conversion]]\n",
    "index_name = ['total', 'conversion']\n",
    "col_name = ['design_a', 'design_b']\n",
    "\n",
    "export_data = pd.DataFrame(data, index_name, col_name)"
   ]
  },
  {
   "cell_type": "code",
   "execution_count": 64,
   "metadata": {},
   "outputs": [
    {
     "data": {
      "text/html": [
       "<div>\n",
       "<style scoped>\n",
       "    .dataframe tbody tr th:only-of-type {\n",
       "        vertical-align: middle;\n",
       "    }\n",
       "\n",
       "    .dataframe tbody tr th {\n",
       "        vertical-align: top;\n",
       "    }\n",
       "\n",
       "    .dataframe thead th {\n",
       "        text-align: right;\n",
       "    }\n",
       "</style>\n",
       "<table border=\"1\" class=\"dataframe\">\n",
       "  <thead>\n",
       "    <tr style=\"text-align: right;\">\n",
       "      <th></th>\n",
       "      <th>design_a</th>\n",
       "      <th>design_b</th>\n",
       "    </tr>\n",
       "  </thead>\n",
       "  <tbody>\n",
       "    <tr>\n",
       "      <th>total</th>\n",
       "      <td>89</td>\n",
       "      <td>52</td>\n",
       "    </tr>\n",
       "    <tr>\n",
       "      <th>conversion</th>\n",
       "      <td>81</td>\n",
       "      <td>59</td>\n",
       "    </tr>\n",
       "  </tbody>\n",
       "</table>\n",
       "</div>"
      ],
      "text/plain": [
       "            design_a  design_b\n",
       "total             89        52\n",
       "conversion        81        59"
      ]
     },
     "execution_count": 64,
     "metadata": {},
     "output_type": "execute_result"
    }
   ],
   "source": [
    "export_data"
   ]
  },
  {
   "cell_type": "code",
   "execution_count": 67,
   "metadata": {},
   "outputs": [],
   "source": [
    "export_data.to_csv('conversion.csv')"
   ]
  },
  {
   "cell_type": "code",
   "execution_count": 69,
   "metadata": {},
   "outputs": [
    {
     "name": "stdout",
     "output_type": "stream",
     "text": [
      "\n",
      "\n",
      "Updates are available for some Cloud SDK components.  To install them,\n",
      "please run:\n",
      "  $ gcloud components update\n",
      "\n",
      "Copying file://conversion.csv [Content-Type=text/csv]...\n",
      "/ [1 files][   48.0 B/   48.0 B]                                                \n",
      "Operation completed over 1 objects/48.0 B.                                       \n"
     ]
    }
   ],
   "source": [
    "# Copy the file to Google Storage\n",
    "!gsutil cp 'conversion.csv' gs://YOUR_BUCKET"
   ]
  }
 ],
 "metadata": {
  "kernelspec": {
   "display_name": "Python 2",
   "language": "python",
   "name": "python2"
  },
  "language_info": {
   "codemirror_mode": {
    "name": "ipython",
    "version": 2
   },
   "file_extension": ".py",
   "mimetype": "text/x-python",
   "name": "python",
   "nbconvert_exporter": "python",
   "pygments_lexer": "ipython2",
   "version": "2.7.18"
  }
 },
 "nbformat": 4,
 "nbformat_minor": 4
}
